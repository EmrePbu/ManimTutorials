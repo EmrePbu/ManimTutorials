{
 "cells": [
  {
   "cell_type": "code",
   "execution_count": 1,
   "metadata": {},
   "outputs": [
    {
     "data": {
      "text/html": [
       "<pre style=\"white-space:pre;overflow-x:auto;line-height:normal;font-family:Menlo,'DejaVu Sans Mono',consolas,'Courier New',monospace\">Manim Community <span style=\"color: #008000; text-decoration-color: #008000\">v0.15.2</span>\n",
       "\n",
       "</pre>\n"
      ],
      "text/plain": [
       "Manim Community \u001b[32mv0.\u001b[0m\u001b[32m15.2\u001b[0m\n",
       "\n"
      ]
     },
     "metadata": {},
     "output_type": "display_data"
    }
   ],
   "source": [
    "from manim import *"
   ]
  },
  {
   "cell_type": "code",
   "execution_count": 2,
   "metadata": {},
   "outputs": [
    {
     "name": "stderr",
     "output_type": "stream",
     "text": [
      "                                                                                                    \r"
     ]
    },
    {
     "data": {
      "text/html": [
       "<video src=\"media\\jupyter\\CreateBasicShapes@2022-07-07@20-54-15.mp4\" controls autoplay loop style=\"max-width: 60%;\"  >\n",
       "      Your browser does not support the <code>video</code> element.\n",
       "    </video>"
      ],
      "text/plain": [
       "<IPython.core.display.Video object>"
      ]
     },
     "metadata": {},
     "output_type": "display_data"
    }
   ],
   "source": [
    "%%manim -qh -v WARNING CreateBasicShapes\n",
    "\n",
    "class CreateBasicShapes(Scene):\n",
    "    def construct(self):\n",
    "        title = Text(\"Creating Basic Shapes\").shift(UP * 3)\n",
    "        self.play(Write(title))\n",
    "        self.wait(duration = 0.3)\n",
    "\n",
    "        circle = Circle()  # create a circle\n",
    "        circle_text = Text(\"Circle\").shift(DOWN * 3) # create a title circle\n",
    "        circle.set_fill(PINK, opacity = 0.5)  # set the color and transparency\n",
    "        self.play(Create(circle), Write(circle_text))  # show the circle on screen\n",
    "        self.play(FadeOut(circle,circle_text)) # hide the circle and text\n",
    "\n",
    "        square = Square()\n",
    "        square_text = Text(\"Square\").shift(DOWN * 3)\n",
    "        square.set_fill(BLUE, opacity = 0.5)\n",
    "        self.play(Create(square), Write(square_text))\n",
    "        self.play(FadeOut(square,square_text))\n",
    "\n",
    "        triangle = Triangle()\n",
    "        triangle_text = Text(\"Triangle\").shift(DOWN * 3)\n",
    "        triangle.set_fill(GREEN, opacity = 0.5)\n",
    "        self.play(Create(triangle),Write(triangle_text))\n",
    "        self.play(FadeOut(triangle,triangle_text))"
   ]
  }
 ],
 "metadata": {
  "kernelspec": {
   "display_name": "Python 3.10.5 64-bit",
   "language": "python",
   "name": "python3"
  },
  "language_info": {
   "codemirror_mode": {
    "name": "ipython",
    "version": 3
   },
   "file_extension": ".py",
   "mimetype": "text/x-python",
   "name": "python",
   "nbconvert_exporter": "python",
   "pygments_lexer": "ipython3",
   "version": "3.10.5"
  },
  "orig_nbformat": 4,
  "vscode": {
   "interpreter": {
    "hash": "dcedf018414965c0f2f5d0647713fd56ea16f2e7e104c1331108a17b9a7ca4b4"
   }
  }
 },
 "nbformat": 4,
 "nbformat_minor": 2
}
