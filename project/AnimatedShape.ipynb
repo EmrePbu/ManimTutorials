{
 "cells": [
  {
   "cell_type": "code",
   "execution_count": 26,
   "metadata": {},
   "outputs": [],
   "source": [
    "from manim import *"
   ]
  },
  {
   "cell_type": "code",
   "execution_count": 28,
   "metadata": {},
   "outputs": [
    {
     "name": "stderr",
     "output_type": "stream",
     "text": [
      "                                                                                               \r"
     ]
    },
    {
     "data": {
      "text/html": [
       "<video src=\"media\\jupyter\\AnimateShape@2022-07-08@14-16-59.mp4\" controls autoplay loop style=\"max-width: 60%;\"  >\n",
       "      Your browser does not support the <code>video</code> element.\n",
       "    </video>"
      ],
      "text/plain": [
       "<IPython.core.display.Video object>"
      ]
     },
     "metadata": {},
     "output_type": "display_data"
    }
   ],
   "source": [
    "%%manim -qh -v WARNING AnimateShape\n",
    "\n",
    "class AnimateShape(Scene):\n",
    "    def construct(this):\n",
    "        title = Text(\"Animated Shapes\").shift(UP * 3)\n",
    "        this.play(Write(title))\n",
    "\n",
    "        circle = Circle()\n",
    "        triangle = Triangle()\n",
    "        this.play(Create(triangle))\n",
    "        this.play(triangle.animate.rotate(PI / 3))\n",
    "        this.wait(.33)\n",
    "        this.play(triangle.animate.rotate(-PI / 3))\n",
    "        this.wait(.33)\n",
    "        this.play(ReplacementTransform(triangle, circle))\n",
    "        this.wait(.33)\n",
    "        this.play(circle.animate.set_fill(PINK, opacity=0.5))\n",
    "        this.wait(.33)\n",
    "        this.play(FadeOut(circle))\n",
    "\n",
    "        up_square = Square(color=YELLOW, fill_opacity=0.7).shift(UP)\n",
    "        left_square = Square(color=BLUE, fill_opacity=0.7).shift(3 * LEFT).shift(2 * DOWN)\n",
    "        right_square = Square(color=GREEN, fill_opacity=0.7).shift(3 * RIGHT).shift(2 * DOWN)\n",
    "        this.play(up_square.animate.rotate(PI), Rotate(right_square, angle = PI),Rotate(left_square, angle = -PI),run_time=2)"
   ]
  }
 ],
 "metadata": {
  "kernelspec": {
   "display_name": "Python 3.10.5 64-bit",
   "language": "python",
   "name": "python3"
  },
  "language_info": {
   "codemirror_mode": {
    "name": "ipython",
    "version": 3
   },
   "file_extension": ".py",
   "mimetype": "text/x-python",
   "name": "python",
   "nbconvert_exporter": "python",
   "pygments_lexer": "ipython3",
   "version": "3.10.5"
  },
  "orig_nbformat": 4,
  "vscode": {
   "interpreter": {
    "hash": "dcedf018414965c0f2f5d0647713fd56ea16f2e7e104c1331108a17b9a7ca4b4"
   }
  }
 },
 "nbformat": 4,
 "nbformat_minor": 2
}
