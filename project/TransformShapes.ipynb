{
 "cells": [
  {
   "cell_type": "code",
   "execution_count": 3,
   "metadata": {},
   "outputs": [],
   "source": [
    "from manim import *"
   ]
  },
  {
   "cell_type": "code",
   "execution_count": 4,
   "metadata": {},
   "outputs": [
    {
     "name": "stderr",
     "output_type": "stream",
     "text": [
      "                                                                                                  \r"
     ]
    },
    {
     "data": {
      "text/html": [
       "<video src=\"media\\jupyter\\TransformShape@2022-07-07@23-35-48.mp4\" controls autoplay loop style=\"max-width: 60%;\"  >\n",
       "      Your browser does not support the <code>video</code> element.\n",
       "    </video>"
      ],
      "text/plain": [
       "<IPython.core.display.Video object>"
      ]
     },
     "metadata": {},
     "output_type": "display_data"
    }
   ],
   "source": [
    "%%manim -qh -v WARNING TransformShape\n",
    "\n",
    "class TransformShape(Scene):\n",
    "    def construct(self):\n",
    "        title = Text(\"Transforming shapes\").shift(UP * 3)\n",
    "        \n",
    "        triangle = Triangle()\n",
    "        triangle.set_fill(BLUE, opacity=0.5)\n",
    "\n",
    "        square = Square().rotate(PI / 4)\n",
    "\n",
    "        self.play(Write(title))\n",
    "        self.play(Create(square))\n",
    "        self.play(Transform(square, triangle))\n",
    "        self.play(FadeOut(triangle))"
   ]
  }
 ],
 "metadata": {
  "kernelspec": {
   "display_name": "Python 3.10.5 64-bit",
   "language": "python",
   "name": "python3"
  },
  "language_info": {
   "codemirror_mode": {
    "name": "ipython",
    "version": 3
   },
   "file_extension": ".py",
   "mimetype": "text/x-python",
   "name": "python",
   "nbconvert_exporter": "python",
   "pygments_lexer": "ipython3",
   "version": "3.10.5"
  },
  "orig_nbformat": 4,
  "vscode": {
   "interpreter": {
    "hash": "dcedf018414965c0f2f5d0647713fd56ea16f2e7e104c1331108a17b9a7ca4b4"
   }
  }
 },
 "nbformat": 4,
 "nbformat_minor": 2
}
